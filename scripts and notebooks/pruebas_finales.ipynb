{
  "nbformat": 4,
  "nbformat_minor": 0,
  "metadata": {
    "colab": {
      "provenance": [],
      "collapsed_sections": []
    },
    "kernelspec": {
      "name": "python3",
      "display_name": "Python 3"
    },
    "language_info": {
      "name": "python"
    },
    "accelerator": "GPU"
  },
  "cells": [
    {
      "cell_type": "markdown",
      "source": [
        "### Setup"
      ],
      "metadata": {
        "id": "GEoxVliEpn13"
      }
    },
    {
      "cell_type": "code",
      "source": [
        "#imports para montar el sistema de archivos de drive\n",
        "from google.colab import drive\n",
        "drive.mount(\"/content/drive\")"
      ],
      "metadata": {
        "id": "Qs9i0H37vN9v"
      },
      "execution_count": null,
      "outputs": []
    },
    {
      "cell_type": "markdown",
      "source": [
        "Clonamos el repositorio e instalamos las dependencias"
      ],
      "metadata": {
        "id": "k899Tx-NpwUz"
      }
    },
    {
      "cell_type": "code",
      "execution_count": null,
      "metadata": {
        "id": "9QuqrVjRpUOH"
      },
      "outputs": [],
      "source": [
        "!git clone https://github.com/ultralytics/yolov5  # clone\n",
        "%cd yolov5\n",
        "%pip install -qr requirements.txt  # install\n",
        "\n",
        "import torch\n",
        "import utils\n",
        "display = utils.notebook_init()  # checks"
      ]
    },
    {
      "cell_type": "markdown",
      "source": [
        "### Detection"
      ],
      "metadata": {
        "id": "PoodeV5GqJPD"
      }
    },
    {
      "cell_type": "code",
      "source": [
        "!python detect.py --weights /content/drive/MyDrive/TFM/cuatro_clases/9/weights/best.pt --img 416 --conf 0.25 --source /content/drive/MyDrive/TFM/cuatro_clases/9/pruebas"
      ],
      "metadata": {
        "id": "zylKMv1wCU6Y"
      },
      "execution_count": null,
      "outputs": []
    }
  ]
}