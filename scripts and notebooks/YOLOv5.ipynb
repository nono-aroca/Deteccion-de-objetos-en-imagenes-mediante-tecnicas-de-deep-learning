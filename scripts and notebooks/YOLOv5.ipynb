{
  "nbformat": 4,
  "nbformat_minor": 0,
  "metadata": {
    "colab": {
      "provenance": [],
      "collapsed_sections": []
    },
    "kernelspec": {
      "name": "python3",
      "display_name": "Python 3"
    },
    "language_info": {
      "name": "python"
    },
    "accelerator": "GPU"
  },
  "cells": [
    {
      "cell_type": "markdown",
      "source": [
        "### Setup"
      ],
      "metadata": {
        "id": "GEoxVliEpn13"
      }
    },
    {
      "cell_type": "code",
      "source": [
        "#imports para montar el sistema de archivos de drive\n",
        "from google.colab import drive\n",
        "drive.mount(\"/content/drive\")"
      ],
      "metadata": {
        "id": "Qs9i0H37vN9v"
      },
      "execution_count": null,
      "outputs": []
    },
    {
      "cell_type": "markdown",
      "source": [
        "Clonamos el repositorio e instalamos las dependencias"
      ],
      "metadata": {
        "id": "k899Tx-NpwUz"
      }
    },
    {
      "cell_type": "code",
      "execution_count": null,
      "metadata": {
        "id": "9QuqrVjRpUOH"
      },
      "outputs": [],
      "source": [
        "!git clone https://github.com/ultralytics/yolov5  # clonamos repositorio\n",
        "%cd yolov5\n",
        "%pip install -qr requirements.txt  # instalamos las dependencias\n",
        "\n",
        "import torch\n",
        "import utils\n",
        "display = utils.notebook_init()  # comprobamos que todo este correcto"
      ]
    },
    {
      "cell_type": "markdown",
      "source": [
        "### Train"
      ],
      "metadata": {
        "id": "PoodeV5GqJPD"
      }
    },
    {
      "cell_type": "markdown",
      "source": [
        "Iniciamos tensorboard para el registro local del proceso de entrenamiento"
      ],
      "metadata": {
        "id": "bVmv6cZQWD-J"
      }
    },
    {
      "cell_type": "code",
      "source": [
        "%load_ext tensorboard\n",
        "%tensorboard --logdir runs/train"
      ],
      "metadata": {
        "id": "iQEDLauYvUKQ"
      },
      "execution_count": null,
      "outputs": []
    },
    {
      "cell_type": "markdown",
      "source": [
        "Instalamos e iniciamos weight and biases para el registro en la nube del entrenamiento, así como la visualización de dicho proceso."
      ],
      "metadata": {
        "id": "5aEo944kWJW8"
      }
    },
    {
      "cell_type": "code",
      "source": [
        "%pip install -q wandb\n",
        "import wandb\n",
        "wandb.login()"
      ],
      "metadata": {
        "id": "pLIxcgWAuwuw"
      },
      "execution_count": null,
      "outputs": []
    },
    {
      "cell_type": "markdown",
      "source": [
        "Realizamos el entrenamiento.  \n",
        "Es importante especificar según corresponda cada uno de los distintos parámetros de la red."
      ],
      "metadata": {
        "id": "xA1igK74WYre"
      }
    },
    {
      "cell_type": "code",
      "source": [
        "!python train.py --img 416 --batch 32 --epochs 1000 --data /content/drive/MyDrive/TFM/solo_señales_labels_convertidas/data.yaml --weights '' --cfg yolov5l.yaml --cache"
      ],
      "metadata": {
        "id": "BLQF-HDQqL1p"
      },
      "execution_count": null,
      "outputs": []
    },
    {
      "cell_type": "markdown",
      "source": [
        "### Test"
      ],
      "metadata": {
        "id": "FKxPIWAa6E1h"
      }
    },
    {
      "cell_type": "markdown",
      "source": [
        "Comprobamos prestaciones mediante el conjunto test.\n",
        "Especificar en cada caso la ruta donde se encuentran los pesos del modelo entrenado, así como los distintos parámetros."
      ],
      "metadata": {
        "id": "snw1VQXMWv_X"
      }
    },
    {
      "cell_type": "code",
      "source": [
        "!python val.py --weights /content/yolov5/runs/train/exp4/weights/best.pt --data /content/drive/MyDrive/TFM/solo_señales_labels_convertidas/data.yaml --img 416 --iou 0.65 --half --task test"
      ],
      "metadata": {
        "id": "5Eij0tcp6EGK"
      },
      "execution_count": null,
      "outputs": []
    },
    {
      "cell_type": "markdown",
      "source": [
        "A continuación, descargamos los pesos de la red y algunas gráficas de salida que se nos proporciona como feedback del entrenamiento y el proceso de testeo."
      ],
      "metadata": {
        "id": "GQrEoK6kW-eK"
      }
    },
    {
      "cell_type": "code",
      "source": [
        "import os\n",
        "from google.colab import files\n",
        "files.download('/content/yolov5/runs/train/exp4/weights/best.pt')"
      ],
      "metadata": {
        "id": "_02fOYes4qDU"
      },
      "execution_count": null,
      "outputs": []
    },
    {
      "cell_type": "code",
      "source": [
        "files.download('/content/yolov5/runs/train/exp4/weights/last.pt')"
      ],
      "metadata": {
        "id": "BDv0kGsZ4qZL"
      },
      "execution_count": null,
      "outputs": []
    },
    {
      "cell_type": "code",
      "source": [
        "for i in os.listdir('/content/yolov5/runs/train/exp4') :\n",
        "    if i != 'weights':\n",
        "        files.download('/content/yolov5/runs/train/exp4/'+i)"
      ],
      "metadata": {
        "id": "6SWG_PqpnP_8"
      },
      "execution_count": null,
      "outputs": []
    },
    {
      "cell_type": "code",
      "source": [
        "for i in os.listdir('/content/yolov5/runs/val/exp4') :\n",
        "    if i != 'weights':\n",
        "        files.download('/content/yolov5/runs/val/exp4/'+i)"
      ],
      "metadata": {
        "id": "zhxabRxt5G_q"
      },
      "execution_count": null,
      "outputs": []
    }
  ]
}